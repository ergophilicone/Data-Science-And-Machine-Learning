{
 "cells": [
  {
   "cell_type": "markdown",
   "id": "549fef8c",
   "metadata": {},
   "source": [
    "### Booleans\n",
    "\n",
    "Python has a type a variable called bool. It has two possible values True and False"
   ]
  },
  {
   "cell_type": "code",
   "execution_count": 4,
   "id": "c2b9f081",
   "metadata": {},
   "outputs": [
    {
     "name": "stdout",
     "output_type": "stream",
     "text": [
      "True | <class 'bool'>\n"
     ]
    }
   ],
   "source": [
    "x = True\n",
    "print(x, type(x) ,sep=' | ')"
   ]
  },
  {
   "attachments": {
    "image.png": {
     "image/png": "[encoded data removed]"
    }
   },
   "cell_type": "markdown",
   "id": "129bf510",
   "metadata": {},
   "source": [
    "Rather than putting True or False directly to code, Boolean values are determined from **boolean operators**. These are operators that answers yes/no questions.\n",
    "\n",
    "![image.png](attachment:image.png)"
   ]
  },
  {
   "cell_type": "code",
   "execution_count": 5,
   "id": "257ac2b6",
   "metadata": {},
   "outputs": [
    {
     "name": "stdout",
     "output_type": "stream",
     "text": [
      "Can a 19-year-old run for president? False\n",
      "Can a 45-year-old run for president? True\n"
     ]
    }
   ],
   "source": [
    "def can_run_for_president(age):\n",
    "    \"\"\"Can someone of the given age run for president in the US?\"\"\"\n",
    "    # The US Constitution says you must be at least 35 years old\n",
    "    return age >= 35\n",
    "\n",
    "print(\"Can a 19-year-old run for president?\", can_run_for_president(19))\n",
    "print(\"Can a 45-year-old run for president?\", can_run_for_president(45))"
   ]
  },
  {
   "cell_type": "code",
   "execution_count": 6,
   "id": "a6d5d643",
   "metadata": {},
   "outputs": [
    {
     "data": {
      "text/plain": [
       "True"
      ]
     },
     "execution_count": 6,
     "metadata": {},
     "output_type": "execute_result"
    }
   ],
   "source": [
    "3.0 == 3"
   ]
  },
  {
   "cell_type": "code",
   "execution_count": 7,
   "id": "55a6b5f3",
   "metadata": {},
   "outputs": [
    {
     "data": {
      "text/plain": [
       "False"
      ]
     },
     "execution_count": 7,
     "metadata": {},
     "output_type": "execute_result"
    }
   ],
   "source": [
    "'3' == 3"
   ]
  },
  {
   "cell_type": "markdown",
   "id": "bb9e6c15",
   "metadata": {},
   "source": [
    "Comparison operators can be combined with the arithmetic operators we've already seen to express a virtually limitless range of mathematical tests. For example, we can check if a number is odd by checking that the modulus with 2 returns 1:"
   ]
  },
  {
   "cell_type": "code",
   "execution_count": 8,
   "id": "808f50ab",
   "metadata": {},
   "outputs": [
    {
     "name": "stdout",
     "output_type": "stream",
     "text": [
      "Is 100 odd? False\n",
      "Is -1 odd? True\n"
     ]
    }
   ],
   "source": [
    "def is_odd(n):\n",
    "    return (n % 2) == 1\n",
    "\n",
    "print(\"Is 100 odd?\", is_odd(100))\n",
    "print(\"Is -1 odd?\", is_odd(-1))"
   ]
  },
  {
   "cell_type": "markdown",
   "id": "1c97af2b",
   "metadata": {},
   "source": [
    "Remember to use == instead of = when making comparisons. If you write n == 2 you are asking about the value of n. When you write n = 2 you are changing the value of n."
   ]
  },
  {
   "cell_type": "markdown",
   "id": "95b98483",
   "metadata": {},
   "source": [
    "### Combining Boolean Values\n",
    "\n",
    "You can combine boolean values using the standard concepts of \"and\", \"or\", and \"not\". In fact, the words to do this are: and, or, and not.\n",
    "\n",
    "With these, we can make our can_run_for_president function more accurate."
   ]
  },
  {
   "cell_type": "code",
   "execution_count": 9,
   "id": "1e3f0228",
   "metadata": {},
   "outputs": [
    {
     "name": "stdout",
     "output_type": "stream",
     "text": [
      "False\n",
      "False\n",
      "True\n"
     ]
    }
   ],
   "source": [
    "def can_run_for_president(age, is_natural_born_citizen):\n",
    "    \"\"\"Can someone of the given age and citizenship status run for president in the US?\"\"\"\n",
    "    # The US Constitution says you must be a natural born citizen *and* at least 35 years old\n",
    "    return is_natural_born_citizen and (age >= 35)\n",
    "\n",
    "print(can_run_for_president(19, True))\n",
    "print(can_run_for_president(55, False))\n",
    "print(can_run_for_president(55, True))"
   ]
  },
  {
   "cell_type": "markdown",
   "id": "2728cfd3",
   "metadata": {},
   "source": [
    "### Conditionals\n",
    "\n",
    "Booleans are most useful when combined with conditional statements, using the keywords if, elif, and else.\n",
    "\n",
    "Conditional statements, often referred to as if-then statements, let you control what pieces of code are run based on the value of some Boolean condition. Here's an example:"
   ]
  },
  {
   "cell_type": "code",
   "execution_count": 10,
   "id": "db1c7411",
   "metadata": {},
   "outputs": [
    {
     "name": "stdout",
     "output_type": "stream",
     "text": [
      "0 is zero\n",
      "-15 is negative\n"
     ]
    }
   ],
   "source": [
    "def inspect(x):\n",
    "    if x == 0:\n",
    "        print(x, \"is zero\")\n",
    "    elif x > 0:\n",
    "        print(x, \"is positive\")\n",
    "    elif x < 0:\n",
    "        print(x, \"is negative\")\n",
    "    else:\n",
    "        print(x, \"is unlike anything I've ever seen...\")\n",
    "\n",
    "inspect(0)\n",
    "inspect(-15)"
   ]
  },
  {
   "cell_type": "code",
   "execution_count": 11,
   "id": "aecc5ee3",
   "metadata": {},
   "outputs": [
    {
     "name": "stdout",
     "output_type": "stream",
     "text": [
      "Only printed when x is positive; x = 1\n",
      "Also only printed when x is positive; x = 1\n",
      "Always printed, regardless of x's value; x = 1\n",
      "Always printed, regardless of x's value; x = 0\n"
     ]
    }
   ],
   "source": [
    "def f(x):\n",
    "    if x > 0:\n",
    "        print(\"Only printed when x is positive; x =\", x)\n",
    "        print(\"Also only printed when x is positive; x =\", x)\n",
    "    print(\"Always printed, regardless of x's value; x =\", x)\n",
    "\n",
    "f(1)\n",
    "f(0)"
   ]
  },
  {
   "cell_type": "markdown",
   "id": "08a8f622",
   "metadata": {},
   "source": [
    "### Boolean conversion\n",
    "We've seen int(), which turns things into ints, and float(), which turns things into floats, so you might not be surprised to hear that Python has a bool() function which turns things into bools."
   ]
  },
  {
   "cell_type": "code",
   "execution_count": 12,
   "id": "e1216b57",
   "metadata": {},
   "outputs": [
    {
     "name": "stdout",
     "output_type": "stream",
     "text": [
      "True\n",
      "False\n",
      "True\n",
      "False\n"
     ]
    }
   ],
   "source": [
    "print(bool(1)) # all numbers are treated as true, except 0\n",
    "print(bool(0))\n",
    "print(bool(\"asf\")) # all strings are treated as true, except the empty string \"\"\n",
    "print(bool(\"\"))\n",
    "# Generally empty sequences (strings, lists, and other types we've yet to see like lists and tuples)\n",
    "# are \"falsey\" and the rest are \"truthy\""
   ]
  },
  {
   "cell_type": "markdown",
   "id": "3bf35094",
   "metadata": {},
   "source": [
    "We can use non-boolean objects in if conditions and other places where a boolean would be expected. Python will implicitly treat them as their corresponding boolean value:"
   ]
  },
  {
   "cell_type": "code",
   "execution_count": 13,
   "id": "d7a504a0",
   "metadata": {},
   "outputs": [
    {
     "name": "stdout",
     "output_type": "stream",
     "text": [
      "spam\n"
     ]
    }
   ],
   "source": [
    "if 0:\n",
    "    print(0)\n",
    "elif \"spam\":\n",
    "    print(\"spam\")"
   ]
  },
  {
   "cell_type": "code",
   "execution_count": null,
   "id": "f65f056c",
   "metadata": {},
   "outputs": [],
   "source": []
  }
 ],
 "metadata": {
  "kernelspec": {
   "display_name": "Python 3 (ipykernel)",
   "language": "python",
   "name": "python3"
  },
  "language_info": {
   "codemirror_mode": {
    "name": "ipython",
    "version": 3
   },
   "file_extension": ".py",
   "mimetype": "text/x-python",
   "name": "python",
   "nbconvert_exporter": "python",
   "pygments_lexer": "ipython3",
   "version": "3.11.2"
  }
 },
 "nbformat": 4,
 "nbformat_minor": 5
}
